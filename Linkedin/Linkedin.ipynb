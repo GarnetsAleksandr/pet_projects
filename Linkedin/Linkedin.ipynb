{
  "nbformat": 4,
  "nbformat_minor": 0,
  "metadata": {
    "colab": {
      "provenance": [],
      "mount_file_id": "107OEDfI7TTZ7uhX75jmKL0DWpaP8fy5F",
      "authorship_tag": "ABX9TyMPgdG5zfEscoxIlAKXTq+P",
      "include_colab_link": true
    },
    "kernelspec": {
      "name": "python3",
      "display_name": "Python 3"
    },
    "language_info": {
      "name": "python"
    }
  },
  "cells": [
    {
      "cell_type": "markdown",
      "metadata": {
        "id": "view-in-github",
        "colab_type": "text"
      },
      "source": [
        "<a href=\"https://colab.research.google.com/github/GarnetsAleksandr/pet_projects/blob/main/Linkedin/Linkedin.ipynb\" target=\"_parent\"><img src=\"https://colab.research.google.com/assets/colab-badge.svg\" alt=\"Open In Colab\"/></a>"
      ]
    },
    {
      "cell_type": "markdown",
      "source": [
        "# Дашборд\n",
        "https://public.tableau.com/app/profile/gar5891/viz/Linkedin_16859804785410/Linkedin?publish=yes"
      ],
      "metadata": {
        "id": "hCfjrQpMyN7w"
      }
    },
    {
      "cell_type": "markdown",
      "source": [
        "# Импорт библиотек"
      ],
      "metadata": {
        "id": "0FoyfSCj2V2L"
      }
    },
    {
      "cell_type": "code",
      "execution_count": null,
      "metadata": {
        "id": "JR-0g1BSEXiD"
      },
      "outputs": [],
      "source": [
        "import pandas as pd\n",
        "# pd.set_option('display.max_colwidth', None)\n",
        "from bs4 import BeautifulSoup\n",
        "import numpy as np\n",
        "from datetime import datetime, timedelta"
      ]
    },
    {
      "cell_type": "code",
      "source": [
        "from IPython.display import display, HTML"
      ],
      "metadata": {
        "id": "ZoEkhJ7D19ru"
      },
      "execution_count": null,
      "outputs": []
    },
    {
      "cell_type": "code",
      "source": [
        "import matplotlib.pyplot as plt\n",
        "plt.style.use('dark_background')"
      ],
      "metadata": {
        "id": "Pxyhnk4gQ7pO"
      },
      "execution_count": null,
      "outputs": []
    },
    {
      "cell_type": "markdown",
      "source": [
        "# Парсинг CSV"
      ],
      "metadata": {
        "id": "LHJ1xsS72fQj"
      }
    },
    {
      "cell_type": "code",
      "source": [
        "raw_df=pd.read_csv('/content/drive/MyDrive/Linkedin- Мастерская/masterskaya_parsing_LinkedIn_2023_05_23.csv', index_col=0)"
      ],
      "metadata": {
        "id": "QfKJzMGUFBHr"
      },
      "execution_count": null,
      "outputs": []
    },
    {
      "cell_type": "code",
      "source": [
        "df=pd.DataFrame(columns=['vacancy_name', 'city_region_country','type_of_employment','company','field_of_activity','company_size','hard_skills','publication','candidates'])"
      ],
      "metadata": {
        "id": "mqD6DnV5GUFO"
      },
      "execution_count": null,
      "outputs": []
    },
    {
      "cell_type": "code",
      "source": [
        "for i in range(raw_df.shape[0]):\n",
        "  lis=[]\n",
        "  soup = BeautifulSoup(raw_df['html'][i], 'lxml')\n",
        "\n",
        "  # наименование вакансии\n",
        "  try:\n",
        "    lis.append(soup.h2.text.strip())\n",
        "  except:\n",
        "   lis.append('No_info')\n",
        "\n",
        "# город, регион, страна\n",
        "  try:\n",
        "     lis.append(soup.find('span', attrs= {'class':'jobs-unified-top-card__bullet'} ).text.strip().split(','))\n",
        "  except:\n",
        "     lis.append(np.NaN)\n",
        "\n",
        "# тип занятости (online, hybride, on-site)\n",
        "  try:\n",
        "     lis.append(soup.find('span', attrs= {'class':'jobs-unified-top-card__workplace-type'} ).text.strip())\n",
        "  except:\n",
        "    lis.append('No_info')\n",
        "\n",
        "# компания\n",
        "  try:\n",
        "     lis.append(soup.find('span', attrs= {'class':'jobs-unified-top-card__company-name'} ).text.strip())\n",
        "  except:\n",
        "     lis.append('No_info')\n",
        "\n",
        "# сфера деятельности компании\n",
        "  try:\n",
        "   company_info = soup.find('div', {'class': 't-14 mt5'})\n",
        "   industry = company_info.text.split('\\n')[1].strip()\n",
        "   lis.append(industry)\n",
        "  except:\n",
        "     lis.append('No_info')\n",
        "\n",
        "# размер компании (количество работников)\n",
        "  try:\n",
        "    lis.append(soup.find('span', attrs= {'jobs-company__inline-information'} ).text.strip().split(' ')[0])\n",
        "  except:\n",
        "     lis.append('No_info')\n",
        "\n",
        "# требуемые хард скилы\n",
        "  try:\n",
        "     lis.append(soup.find('div', attrs= {'class':\"jobs-description__content jobs-description-content\"} ).text.strip())\n",
        "  except:\n",
        "    lis.append('No_info')\n",
        "\n",
        "# дата публикации вакансии\n",
        "  try:\n",
        "     lis.append(soup.find('span', attrs= {'jobs-unified-top-card__posted-date'} ).text.strip())\n",
        "  except:\n",
        "     lis.append('No_info')\n",
        "\n",
        "#количество кандидатов на вакансию\n",
        "  try:\n",
        "     lis.append(soup.find('span', attrs= {'jobs-unified-top-card__applicant-count'} ).text.strip().split(' ')[0])\n",
        "  except:\n",
        "    lis.append(0)\n",
        "\n",
        "  df.loc[len(df.index)] =lis"
      ],
      "metadata": {
        "id": "PomIvIz0NDHZ"
      },
      "execution_count": null,
      "outputs": []
    },
    {
      "cell_type": "code",
      "source": [
        "df.head()"
      ],
      "metadata": {
        "colab": {
          "base_uri": "https://localhost:8080/",
          "height": 472
        },
        "id": "kk23GmfZF_rN",
        "outputId": "9cce8a47-902a-4812-e751-d53cc4240e8e"
      },
      "execution_count": null,
      "outputs": [
        {
          "output_type": "execute_result",
          "data": {
            "text/plain": [
              "                      vacancy_name                        city_region_country  \\\n",
              "0                     Data Analyst              [Basel,  Basel,  Switzerland]   \n",
              "1         Data Analyst - Logistics      [Coventry,  England,  United Kingdom]   \n",
              "2         Data Analyst - Logistics      [Coventry,  England,  United Kingdom]   \n",
              "3  Data Analyst (Space & Planning)  [South Molton,  England,  United Kingdom]   \n",
              "4                     Data Analyst            [Lugano,  Ticino,  Switzerland]   \n",
              "\n",
              "  type_of_employment                                   company  \\\n",
              "0            On-site  PharmiWeb.Jobs: Global Life Science Jobs   \n",
              "1            On-site                      Resolute Recruitment   \n",
              "2            On-site                      Resolute Recruitment   \n",
              "3            On-site                       Mole Valley Farmers   \n",
              "4            On-site                                   FORFIRM   \n",
              "\n",
              "       field_of_activity company_size  \\\n",
              "0  Staffing & Recruiting        11-50   \n",
              "1                No_info      No_info   \n",
              "2                No_info      No_info   \n",
              "3                No_info      No_info   \n",
              "4                No_info      No_info   \n",
              "\n",
              "                                         hard_skills  publication candidates  \n",
              "0  About the job\\n        \\n\\n \\n                ...   1 week ago         47  \n",
              "1                                      About the job   1 week ago          0  \n",
              "2  About the job\\n        \\n\\n \\nData Analyst - L...   1 week ago          0  \n",
              "3  About the job\\n        \\n\\n \\nSalary: To be di...   1 week ago          0  \n",
              "4  About the job\\n        \\n\\n \\nFORFIRM is provi...  2 weeks ago          0  "
            ],
            "text/html": [
              "\n",
              "  <div id=\"df-a8c72cdd-005c-4e0d-89d7-c4aa9d9641ae\">\n",
              "    <div class=\"colab-df-container\">\n",
              "      <div>\n",
              "<style scoped>\n",
              "    .dataframe tbody tr th:only-of-type {\n",
              "        vertical-align: middle;\n",
              "    }\n",
              "\n",
              "    .dataframe tbody tr th {\n",
              "        vertical-align: top;\n",
              "    }\n",
              "\n",
              "    .dataframe thead th {\n",
              "        text-align: right;\n",
              "    }\n",
              "</style>\n",
              "<table border=\"1\" class=\"dataframe\">\n",
              "  <thead>\n",
              "    <tr style=\"text-align: right;\">\n",
              "      <th></th>\n",
              "      <th>vacancy_name</th>\n",
              "      <th>city_region_country</th>\n",
              "      <th>type_of_employment</th>\n",
              "      <th>company</th>\n",
              "      <th>field_of_activity</th>\n",
              "      <th>company_size</th>\n",
              "      <th>hard_skills</th>\n",
              "      <th>publication</th>\n",
              "      <th>candidates</th>\n",
              "    </tr>\n",
              "  </thead>\n",
              "  <tbody>\n",
              "    <tr>\n",
              "      <th>0</th>\n",
              "      <td>Data Analyst</td>\n",
              "      <td>[Basel,  Basel,  Switzerland]</td>\n",
              "      <td>On-site</td>\n",
              "      <td>PharmiWeb.Jobs: Global Life Science Jobs</td>\n",
              "      <td>Staffing &amp; Recruiting</td>\n",
              "      <td>11-50</td>\n",
              "      <td>About the job\\n        \\n\\n \\n                ...</td>\n",
              "      <td>1 week ago</td>\n",
              "      <td>47</td>\n",
              "    </tr>\n",
              "    <tr>\n",
              "      <th>1</th>\n",
              "      <td>Data Analyst - Logistics</td>\n",
              "      <td>[Coventry,  England,  United Kingdom]</td>\n",
              "      <td>On-site</td>\n",
              "      <td>Resolute Recruitment</td>\n",
              "      <td>No_info</td>\n",
              "      <td>No_info</td>\n",
              "      <td>About the job</td>\n",
              "      <td>1 week ago</td>\n",
              "      <td>0</td>\n",
              "    </tr>\n",
              "    <tr>\n",
              "      <th>2</th>\n",
              "      <td>Data Analyst - Logistics</td>\n",
              "      <td>[Coventry,  England,  United Kingdom]</td>\n",
              "      <td>On-site</td>\n",
              "      <td>Resolute Recruitment</td>\n",
              "      <td>No_info</td>\n",
              "      <td>No_info</td>\n",
              "      <td>About the job\\n        \\n\\n \\nData Analyst - L...</td>\n",
              "      <td>1 week ago</td>\n",
              "      <td>0</td>\n",
              "    </tr>\n",
              "    <tr>\n",
              "      <th>3</th>\n",
              "      <td>Data Analyst (Space &amp; Planning)</td>\n",
              "      <td>[South Molton,  England,  United Kingdom]</td>\n",
              "      <td>On-site</td>\n",
              "      <td>Mole Valley Farmers</td>\n",
              "      <td>No_info</td>\n",
              "      <td>No_info</td>\n",
              "      <td>About the job\\n        \\n\\n \\nSalary: To be di...</td>\n",
              "      <td>1 week ago</td>\n",
              "      <td>0</td>\n",
              "    </tr>\n",
              "    <tr>\n",
              "      <th>4</th>\n",
              "      <td>Data Analyst</td>\n",
              "      <td>[Lugano,  Ticino,  Switzerland]</td>\n",
              "      <td>On-site</td>\n",
              "      <td>FORFIRM</td>\n",
              "      <td>No_info</td>\n",
              "      <td>No_info</td>\n",
              "      <td>About the job\\n        \\n\\n \\nFORFIRM is provi...</td>\n",
              "      <td>2 weeks ago</td>\n",
              "      <td>0</td>\n",
              "    </tr>\n",
              "  </tbody>\n",
              "</table>\n",
              "</div>\n",
              "      <button class=\"colab-df-convert\" onclick=\"convertToInteractive('df-a8c72cdd-005c-4e0d-89d7-c4aa9d9641ae')\"\n",
              "              title=\"Convert this dataframe to an interactive table.\"\n",
              "              style=\"display:none;\">\n",
              "        \n",
              "  <svg xmlns=\"http://www.w3.org/2000/svg\" height=\"24px\"viewBox=\"0 0 24 24\"\n",
              "       width=\"24px\">\n",
              "    <path d=\"M0 0h24v24H0V0z\" fill=\"none\"/>\n",
              "    <path d=\"M18.56 5.44l.94 2.06.94-2.06 2.06-.94-2.06-.94-.94-2.06-.94 2.06-2.06.94zm-11 1L8.5 8.5l.94-2.06 2.06-.94-2.06-.94L8.5 2.5l-.94 2.06-2.06.94zm10 10l.94 2.06.94-2.06 2.06-.94-2.06-.94-.94-2.06-.94 2.06-2.06.94z\"/><path d=\"M17.41 7.96l-1.37-1.37c-.4-.4-.92-.59-1.43-.59-.52 0-1.04.2-1.43.59L10.3 9.45l-7.72 7.72c-.78.78-.78 2.05 0 2.83L4 21.41c.39.39.9.59 1.41.59.51 0 1.02-.2 1.41-.59l7.78-7.78 2.81-2.81c.8-.78.8-2.07 0-2.86zM5.41 20L4 18.59l7.72-7.72 1.47 1.35L5.41 20z\"/>\n",
              "  </svg>\n",
              "      </button>\n",
              "      \n",
              "  <style>\n",
              "    .colab-df-container {\n",
              "      display:flex;\n",
              "      flex-wrap:wrap;\n",
              "      gap: 12px;\n",
              "    }\n",
              "\n",
              "    .colab-df-convert {\n",
              "      background-color: #E8F0FE;\n",
              "      border: none;\n",
              "      border-radius: 50%;\n",
              "      cursor: pointer;\n",
              "      display: none;\n",
              "      fill: #1967D2;\n",
              "      height: 32px;\n",
              "      padding: 0 0 0 0;\n",
              "      width: 32px;\n",
              "    }\n",
              "\n",
              "    .colab-df-convert:hover {\n",
              "      background-color: #E2EBFA;\n",
              "      box-shadow: 0px 1px 2px rgba(60, 64, 67, 0.3), 0px 1px 3px 1px rgba(60, 64, 67, 0.15);\n",
              "      fill: #174EA6;\n",
              "    }\n",
              "\n",
              "    [theme=dark] .colab-df-convert {\n",
              "      background-color: #3B4455;\n",
              "      fill: #D2E3FC;\n",
              "    }\n",
              "\n",
              "    [theme=dark] .colab-df-convert:hover {\n",
              "      background-color: #434B5C;\n",
              "      box-shadow: 0px 1px 3px 1px rgba(0, 0, 0, 0.15);\n",
              "      filter: drop-shadow(0px 1px 2px rgba(0, 0, 0, 0.3));\n",
              "      fill: #FFFFFF;\n",
              "    }\n",
              "  </style>\n",
              "\n",
              "      <script>\n",
              "        const buttonEl =\n",
              "          document.querySelector('#df-a8c72cdd-005c-4e0d-89d7-c4aa9d9641ae button.colab-df-convert');\n",
              "        buttonEl.style.display =\n",
              "          google.colab.kernel.accessAllowed ? 'block' : 'none';\n",
              "\n",
              "        async function convertToInteractive(key) {\n",
              "          const element = document.querySelector('#df-a8c72cdd-005c-4e0d-89d7-c4aa9d9641ae');\n",
              "          const dataTable =\n",
              "            await google.colab.kernel.invokeFunction('convertToInteractive',\n",
              "                                                     [key], {});\n",
              "          if (!dataTable) return;\n",
              "\n",
              "          const docLinkHtml = 'Like what you see? Visit the ' +\n",
              "            '<a target=\"_blank\" href=https://colab.research.google.com/notebooks/data_table.ipynb>data table notebook</a>'\n",
              "            + ' to learn more about interactive tables.';\n",
              "          element.innerHTML = '';\n",
              "          dataTable['output_type'] = 'display_data';\n",
              "          await google.colab.output.renderOutput(dataTable, element);\n",
              "          const docLink = document.createElement('div');\n",
              "          docLink.innerHTML = docLinkHtml;\n",
              "          element.appendChild(docLink);\n",
              "        }\n",
              "      </script>\n",
              "    </div>\n",
              "  </div>\n",
              "  "
            ]
          },
          "metadata": {},
          "execution_count": 7
        }
      ]
    },
    {
      "cell_type": "markdown",
      "source": [
        "# Предобработка данных"
      ],
      "metadata": {
        "id": "PZWxjOWs2tGd"
      }
    },
    {
      "cell_type": "code",
      "source": [
        "skills = (['datahub', 'api', 'github', 'google analytics', 'adobe analytics', 'ibm coremetrics', 'omniture'\n",
        "            'gitlab', 'erwin', 'hadoop', 'spark', 'hive'\n",
        "           'databricks', 'aws', 'gcp', 'azure','excel',\n",
        "            'redshift', 'bigquery', 'snowflake',  'hana'\n",
        "            'grafana', 'kantar', 'spss', 'a/b testing', 'ab testing',\n",
        "           'asana', 'basecamp', 'jira', 'dbeaver','trello', 'miro', 'salesforce',\n",
        "           'rapidminer', 'thoughtspot',  'power point',  'docker', 'jenkins','integrate.io', 'talend', 'apache nifi','aws glue','pentaho','google data flow',\n",
        "             'azure data factory','xplenty','skyvia','iri voracity','xtract.io','dataddo', 'ssis',\n",
        "             'hevo data','informatica','oracle data integrator','k2view','cdata sync','querysurge',\n",
        "             'rivery', 'dbconvert', 'alooma', 'stitch', 'fivetran', 'matillion','streamsets','blendo',\n",
        "             'iri voracity','logstash', 'etleap', 'singer', 'apache camel','actian', 'airflow', 'luidgi', 'datastage',\n",
        "           'python', 'vba', 'scala', ' r ', 'java script', 'julia', 'sql', 'matlab', 'java', 'html', 'c++', 'sas',\n",
        "           'data studio', 'tableau', 'looker', 'powerbi', 'cognos', 'microstrategy', 'spotfire',\n",
        "             'sap business objects','microsoft sql server', 'oracle business intelligence', 'yellowfin',\n",
        "             'webfocus','sas visual analytics', 'targit', 'izenda',  'sisense', 'statsbot', 'panorama', 'inetsoft',\n",
        "             'birst', 'domo', 'metabase', 'redash', 'power bi', 'alteryx', 'dataiku', 'qlik sense', 'qlikview'\n",
        "          ])"
      ],
      "metadata": {
        "id": "MKZQ5LSq4zk4"
      },
      "execution_count": null,
      "outputs": []
    },
    {
      "cell_type": "code",
      "source": [
        "def city (df):\n",
        "  if len(df['city_region_country'])==3:\n",
        "    return df['city_region_country'][0]\n",
        "  else:\n",
        "     return 'No_info'"
      ],
      "metadata": {
        "id": "aDvrO9n-esZO"
      },
      "execution_count": null,
      "outputs": []
    },
    {
      "cell_type": "code",
      "source": [
        "df['city']=df.apply(city, axis=1)"
      ],
      "metadata": {
        "id": "-oVkngfDU6LE"
      },
      "execution_count": null,
      "outputs": []
    },
    {
      "cell_type": "code",
      "source": [
        "def country (df):\n",
        "  if len(df['city_region_country'])==3:\n",
        "    return df['city_region_country'][2]\n",
        "  else:\n",
        "     return df['city_region_country'][0]"
      ],
      "metadata": {
        "id": "YllFSP_3HPx0"
      },
      "execution_count": null,
      "outputs": []
    },
    {
      "cell_type": "code",
      "source": [
        "df['country']=df.apply(country, axis=1)"
      ],
      "metadata": {
        "id": "WTGtjfSlU60n"
      },
      "execution_count": null,
      "outputs": []
    },
    {
      "cell_type": "code",
      "source": [
        "for i in ['vacancy_name','company','field_of_activity','hard_skills','city', 'country']:\n",
        "  df[i]=df[i].str.lower()"
      ],
      "metadata": {
        "id": "O2pQ7ATl8sfC"
      },
      "execution_count": null,
      "outputs": []
    },
    {
      "cell_type": "code",
      "source": [
        "def hard_skills (df):\n",
        "  h_skills=[]\n",
        "  for i in skills:\n",
        "    if i in df['hard_skills']:\n",
        "      h_skills.append(i)\n",
        "  if len(h_skills)==0:\n",
        "    return 'no_info'\n",
        "  else:\n",
        "    return h_skills"
      ],
      "metadata": {
        "id": "5tbaUMq1HIN4"
      },
      "execution_count": null,
      "outputs": []
    },
    {
      "cell_type": "code",
      "source": [
        "df['hard_skills']=df.apply(hard_skills, axis=1)"
      ],
      "metadata": {
        "id": "wfMtbuxoVEn8"
      },
      "execution_count": null,
      "outputs": []
    },
    {
      "cell_type": "code",
      "source": [
        "df = df.drop('city_region_country', axis=1)"
      ],
      "metadata": {
        "id": "wmBASkFjfNbj"
      },
      "execution_count": null,
      "outputs": []
    },
    {
      "cell_type": "code",
      "source": [
        "df['candidates']=df['candidates'].astype('int')"
      ],
      "metadata": {
        "id": "qBjUCuqvTH1h"
      },
      "execution_count": null,
      "outputs": []
    },
    {
      "cell_type": "code",
      "source": [
        "df['company_size']=df['company_size'].str.replace(',','')"
      ],
      "metadata": {
        "id": "_35L8KpCotvq"
      },
      "execution_count": null,
      "outputs": []
    },
    {
      "cell_type": "code",
      "source": [
        "df['hard_skills']=df['hard_skills'].str.join(', ')"
      ],
      "metadata": {
        "id": "eNKqV84sJWbR"
      },
      "execution_count": null,
      "outputs": []
    },
    {
      "cell_type": "code",
      "source": [
        "df['hard_skills']=df['hard_skills'].str.replace('n, o, _, i, n, f, o','No_info')"
      ],
      "metadata": {
        "id": "aKEd8ThHYnU-"
      },
      "execution_count": null,
      "outputs": []
    },
    {
      "cell_type": "code",
      "source": [
        "df.head()"
      ],
      "metadata": {
        "colab": {
          "base_uri": "https://localhost:8080/",
          "height": 421
        },
        "id": "iPs2VNc3MxwB",
        "outputId": "743a5104-52cb-4f45-d319-25a5c27e9bec"
      },
      "execution_count": null,
      "outputs": [
        {
          "output_type": "execute_result",
          "data": {
            "text/plain": [
              "                      vacancy_name type_of_employment  \\\n",
              "0                     data analyst            On-site   \n",
              "1         data analyst - logistics            On-site   \n",
              "2         data analyst - logistics            On-site   \n",
              "3  data analyst (space & planning)            On-site   \n",
              "4                     data analyst            On-site   \n",
              "\n",
              "                                    company      field_of_activity  \\\n",
              "0  pharmiweb.jobs: global life science jobs  staffing & recruiting   \n",
              "1                      resolute recruitment                no_info   \n",
              "2                      resolute recruitment                no_info   \n",
              "3                       mole valley farmers                no_info   \n",
              "4                                   forfirm                no_info   \n",
              "\n",
              "  company_size                                        hard_skills  \\\n",
              "0        11-50                              excel, spss, sql, sas   \n",
              "1      No_info                                            No_info   \n",
              "2      No_info                                               ssis   \n",
              "3      No_info                                        excel, ssis   \n",
              "4      No_info  aws, gcp, oracle data integrator, python, sql,...   \n",
              "\n",
              "   publication  candidates          city          country  \n",
              "0   1 week ago          47         basel      switzerland  \n",
              "1   1 week ago           0      coventry   united kingdom  \n",
              "2   1 week ago           0      coventry   united kingdom  \n",
              "3   1 week ago           0  south molton   united kingdom  \n",
              "4  2 weeks ago           0        lugano      switzerland  "
            ],
            "text/html": [
              "\n",
              "  <div id=\"df-08258e42-d79e-4d68-b91c-529d8b39255a\">\n",
              "    <div class=\"colab-df-container\">\n",
              "      <div>\n",
              "<style scoped>\n",
              "    .dataframe tbody tr th:only-of-type {\n",
              "        vertical-align: middle;\n",
              "    }\n",
              "\n",
              "    .dataframe tbody tr th {\n",
              "        vertical-align: top;\n",
              "    }\n",
              "\n",
              "    .dataframe thead th {\n",
              "        text-align: right;\n",
              "    }\n",
              "</style>\n",
              "<table border=\"1\" class=\"dataframe\">\n",
              "  <thead>\n",
              "    <tr style=\"text-align: right;\">\n",
              "      <th></th>\n",
              "      <th>vacancy_name</th>\n",
              "      <th>type_of_employment</th>\n",
              "      <th>company</th>\n",
              "      <th>field_of_activity</th>\n",
              "      <th>company_size</th>\n",
              "      <th>hard_skills</th>\n",
              "      <th>publication</th>\n",
              "      <th>candidates</th>\n",
              "      <th>city</th>\n",
              "      <th>country</th>\n",
              "    </tr>\n",
              "  </thead>\n",
              "  <tbody>\n",
              "    <tr>\n",
              "      <th>0</th>\n",
              "      <td>data analyst</td>\n",
              "      <td>On-site</td>\n",
              "      <td>pharmiweb.jobs: global life science jobs</td>\n",
              "      <td>staffing &amp; recruiting</td>\n",
              "      <td>11-50</td>\n",
              "      <td>excel, spss, sql, sas</td>\n",
              "      <td>1 week ago</td>\n",
              "      <td>47</td>\n",
              "      <td>basel</td>\n",
              "      <td>switzerland</td>\n",
              "    </tr>\n",
              "    <tr>\n",
              "      <th>1</th>\n",
              "      <td>data analyst - logistics</td>\n",
              "      <td>On-site</td>\n",
              "      <td>resolute recruitment</td>\n",
              "      <td>no_info</td>\n",
              "      <td>No_info</td>\n",
              "      <td>No_info</td>\n",
              "      <td>1 week ago</td>\n",
              "      <td>0</td>\n",
              "      <td>coventry</td>\n",
              "      <td>united kingdom</td>\n",
              "    </tr>\n",
              "    <tr>\n",
              "      <th>2</th>\n",
              "      <td>data analyst - logistics</td>\n",
              "      <td>On-site</td>\n",
              "      <td>resolute recruitment</td>\n",
              "      <td>no_info</td>\n",
              "      <td>No_info</td>\n",
              "      <td>ssis</td>\n",
              "      <td>1 week ago</td>\n",
              "      <td>0</td>\n",
              "      <td>coventry</td>\n",
              "      <td>united kingdom</td>\n",
              "    </tr>\n",
              "    <tr>\n",
              "      <th>3</th>\n",
              "      <td>data analyst (space &amp; planning)</td>\n",
              "      <td>On-site</td>\n",
              "      <td>mole valley farmers</td>\n",
              "      <td>no_info</td>\n",
              "      <td>No_info</td>\n",
              "      <td>excel, ssis</td>\n",
              "      <td>1 week ago</td>\n",
              "      <td>0</td>\n",
              "      <td>south molton</td>\n",
              "      <td>united kingdom</td>\n",
              "    </tr>\n",
              "    <tr>\n",
              "      <th>4</th>\n",
              "      <td>data analyst</td>\n",
              "      <td>On-site</td>\n",
              "      <td>forfirm</td>\n",
              "      <td>no_info</td>\n",
              "      <td>No_info</td>\n",
              "      <td>aws, gcp, oracle data integrator, python, sql,...</td>\n",
              "      <td>2 weeks ago</td>\n",
              "      <td>0</td>\n",
              "      <td>lugano</td>\n",
              "      <td>switzerland</td>\n",
              "    </tr>\n",
              "  </tbody>\n",
              "</table>\n",
              "</div>\n",
              "      <button class=\"colab-df-convert\" onclick=\"convertToInteractive('df-08258e42-d79e-4d68-b91c-529d8b39255a')\"\n",
              "              title=\"Convert this dataframe to an interactive table.\"\n",
              "              style=\"display:none;\">\n",
              "        \n",
              "  <svg xmlns=\"http://www.w3.org/2000/svg\" height=\"24px\"viewBox=\"0 0 24 24\"\n",
              "       width=\"24px\">\n",
              "    <path d=\"M0 0h24v24H0V0z\" fill=\"none\"/>\n",
              "    <path d=\"M18.56 5.44l.94 2.06.94-2.06 2.06-.94-2.06-.94-.94-2.06-.94 2.06-2.06.94zm-11 1L8.5 8.5l.94-2.06 2.06-.94-2.06-.94L8.5 2.5l-.94 2.06-2.06.94zm10 10l.94 2.06.94-2.06 2.06-.94-2.06-.94-.94-2.06-.94 2.06-2.06.94z\"/><path d=\"M17.41 7.96l-1.37-1.37c-.4-.4-.92-.59-1.43-.59-.52 0-1.04.2-1.43.59L10.3 9.45l-7.72 7.72c-.78.78-.78 2.05 0 2.83L4 21.41c.39.39.9.59 1.41.59.51 0 1.02-.2 1.41-.59l7.78-7.78 2.81-2.81c.8-.78.8-2.07 0-2.86zM5.41 20L4 18.59l7.72-7.72 1.47 1.35L5.41 20z\"/>\n",
              "  </svg>\n",
              "      </button>\n",
              "      \n",
              "  <style>\n",
              "    .colab-df-container {\n",
              "      display:flex;\n",
              "      flex-wrap:wrap;\n",
              "      gap: 12px;\n",
              "    }\n",
              "\n",
              "    .colab-df-convert {\n",
              "      background-color: #E8F0FE;\n",
              "      border: none;\n",
              "      border-radius: 50%;\n",
              "      cursor: pointer;\n",
              "      display: none;\n",
              "      fill: #1967D2;\n",
              "      height: 32px;\n",
              "      padding: 0 0 0 0;\n",
              "      width: 32px;\n",
              "    }\n",
              "\n",
              "    .colab-df-convert:hover {\n",
              "      background-color: #E2EBFA;\n",
              "      box-shadow: 0px 1px 2px rgba(60, 64, 67, 0.3), 0px 1px 3px 1px rgba(60, 64, 67, 0.15);\n",
              "      fill: #174EA6;\n",
              "    }\n",
              "\n",
              "    [theme=dark] .colab-df-convert {\n",
              "      background-color: #3B4455;\n",
              "      fill: #D2E3FC;\n",
              "    }\n",
              "\n",
              "    [theme=dark] .colab-df-convert:hover {\n",
              "      background-color: #434B5C;\n",
              "      box-shadow: 0px 1px 3px 1px rgba(0, 0, 0, 0.15);\n",
              "      filter: drop-shadow(0px 1px 2px rgba(0, 0, 0, 0.3));\n",
              "      fill: #FFFFFF;\n",
              "    }\n",
              "  </style>\n",
              "\n",
              "      <script>\n",
              "        const buttonEl =\n",
              "          document.querySelector('#df-08258e42-d79e-4d68-b91c-529d8b39255a button.colab-df-convert');\n",
              "        buttonEl.style.display =\n",
              "          google.colab.kernel.accessAllowed ? 'block' : 'none';\n",
              "\n",
              "        async function convertToInteractive(key) {\n",
              "          const element = document.querySelector('#df-08258e42-d79e-4d68-b91c-529d8b39255a');\n",
              "          const dataTable =\n",
              "            await google.colab.kernel.invokeFunction('convertToInteractive',\n",
              "                                                     [key], {});\n",
              "          if (!dataTable) return;\n",
              "\n",
              "          const docLinkHtml = 'Like what you see? Visit the ' +\n",
              "            '<a target=\"_blank\" href=https://colab.research.google.com/notebooks/data_table.ipynb>data table notebook</a>'\n",
              "            + ' to learn more about interactive tables.';\n",
              "          element.innerHTML = '';\n",
              "          dataTable['output_type'] = 'display_data';\n",
              "          await google.colab.output.renderOutput(dataTable, element);\n",
              "          const docLink = document.createElement('div');\n",
              "          docLink.innerHTML = docLinkHtml;\n",
              "          element.appendChild(docLink);\n",
              "        }\n",
              "      </script>\n",
              "    </div>\n",
              "  </div>\n",
              "  "
            ]
          },
          "metadata": {},
          "execution_count": 21
        }
      ]
    },
    {
      "cell_type": "code",
      "source": [
        "df=df[df['vacancy_name'].str.contains('data analyst')]"
      ],
      "metadata": {
        "id": "8ohwR0GwWXuA"
      },
      "execution_count": null,
      "outputs": []
    },
    {
      "cell_type": "markdown",
      "source": [
        "## Дубликаты"
      ],
      "metadata": {
        "id": "pG77bl3cdHYn"
      }
    },
    {
      "cell_type": "code",
      "source": [
        "df.duplicated().sum()"
      ],
      "metadata": {
        "colab": {
          "base_uri": "https://localhost:8080/"
        },
        "id": "f14d1LNX0UPU",
        "outputId": "a8a8aa4f-04e6-45d2-e6cf-c48586257343"
      },
      "execution_count": null,
      "outputs": [
        {
          "output_type": "execute_result",
          "data": {
            "text/plain": [
              "84"
            ]
          },
          "metadata": {},
          "execution_count": 23
        }
      ]
    },
    {
      "cell_type": "code",
      "source": [
        "df[df.duplicated ()]"
      ],
      "metadata": {
        "colab": {
          "base_uri": "https://localhost:8080/",
          "height": 738
        },
        "id": "HGHssPToJBNS",
        "outputId": "40504ceb-22a2-41d2-f225-2b9e959289d5"
      },
      "execution_count": null,
      "outputs": [
        {
          "output_type": "execute_result",
          "data": {
            "text/plain": [
              "                            vacancy_name type_of_employment  \\\n",
              "292                 data analyst (m/w/d)            On-site   \n",
              "293                 data analyst (m/w/d)            On-site   \n",
              "294                 data analyst (m/w/d)            On-site   \n",
              "295                 data analyst (m/w/d)            On-site   \n",
              "296                 data analyst (m/w/d)            On-site   \n",
              "..                                   ...                ...   \n",
              "424                  online data analyst             Remote   \n",
              "776            supply chain data analyst            No_info   \n",
              "782   [alt] data analyst assistant - h/f            On-site   \n",
              "825                        data analyste            On-site   \n",
              "826  data analyst - global marketing h/f            On-site   \n",
              "\n",
              "                                   company  \\\n",
              "292                      charisma-tec gmbh   \n",
              "293                      charisma-tec gmbh   \n",
              "294                      charisma-tec gmbh   \n",
              "295                      charisma-tec gmbh   \n",
              "296                      charisma-tec gmbh   \n",
              "..                                     ...   \n",
              "424  telus international ai data solutions   \n",
              "776              ni (national instruments)   \n",
              "782                             initiative   \n",
              "825                               illicado   \n",
              "826                              septodont   \n",
              "\n",
              "                         field_of_activity company_size  \\\n",
              "292                        human resources         2-10   \n",
              "293                        human resources         2-10   \n",
              "294                        human resources         2-10   \n",
              "295                        human resources         2-10   \n",
              "296                        human resources         2-10   \n",
              "..                                     ...          ...   \n",
              "424      information technology & services       10001+   \n",
              "776  electrical & electronic manufacturing   5001-10000   \n",
              "782                marketing & advertising   5001-10000   \n",
              "825                     financial services       51-200   \n",
              "826                         medical device    1001-5000   \n",
              "\n",
              "                                    hard_skills  publication  candidates  \\\n",
              "292                          excel, python, sql   5 days ago          21   \n",
              "293                          excel, python, sql   5 days ago          21   \n",
              "294                          excel, python, sql   5 days ago          21   \n",
              "295                          excel, python, sql   5 days ago          21   \n",
              "296                          excel, python, sql   5 days ago          21   \n",
              "..                                          ...          ...         ...   \n",
              "424                                     No_info   1 week ago          24   \n",
              "776                    api, excel, sql, tableau  9 hours ago          14   \n",
              "782                 excel, spss, ssis, vba,  r   2 weeks ago         136   \n",
              "825                  github, jira, miro, python  3 weeks ago         109   \n",
              "826  a/b testing, salesforce, tableau, power bi  2 weeks ago          88   \n",
              "\n",
              "                  city          country  \n",
              "292            no_info          germany  \n",
              "293            no_info          germany  \n",
              "294            no_info          germany  \n",
              "295            no_info          germany  \n",
              "296            no_info          germany  \n",
              "..                 ...              ...  \n",
              "424    gloucestershire   united kingdom  \n",
              "776           debrecen          hungary  \n",
              "782  neuilly-sur-seine           france  \n",
              "825              croix           france  \n",
              "826              paris           france  \n",
              "\n",
              "[84 rows x 10 columns]"
            ],
            "text/html": [
              "\n",
              "  <div id=\"df-6c45e66f-beec-42ce-bdb9-997bf3481197\">\n",
              "    <div class=\"colab-df-container\">\n",
              "      <div>\n",
              "<style scoped>\n",
              "    .dataframe tbody tr th:only-of-type {\n",
              "        vertical-align: middle;\n",
              "    }\n",
              "\n",
              "    .dataframe tbody tr th {\n",
              "        vertical-align: top;\n",
              "    }\n",
              "\n",
              "    .dataframe thead th {\n",
              "        text-align: right;\n",
              "    }\n",
              "</style>\n",
              "<table border=\"1\" class=\"dataframe\">\n",
              "  <thead>\n",
              "    <tr style=\"text-align: right;\">\n",
              "      <th></th>\n",
              "      <th>vacancy_name</th>\n",
              "      <th>type_of_employment</th>\n",
              "      <th>company</th>\n",
              "      <th>field_of_activity</th>\n",
              "      <th>company_size</th>\n",
              "      <th>hard_skills</th>\n",
              "      <th>publication</th>\n",
              "      <th>candidates</th>\n",
              "      <th>city</th>\n",
              "      <th>country</th>\n",
              "    </tr>\n",
              "  </thead>\n",
              "  <tbody>\n",
              "    <tr>\n",
              "      <th>292</th>\n",
              "      <td>data analyst (m/w/d)</td>\n",
              "      <td>On-site</td>\n",
              "      <td>charisma-tec gmbh</td>\n",
              "      <td>human resources</td>\n",
              "      <td>2-10</td>\n",
              "      <td>excel, python, sql</td>\n",
              "      <td>5 days ago</td>\n",
              "      <td>21</td>\n",
              "      <td>no_info</td>\n",
              "      <td>germany</td>\n",
              "    </tr>\n",
              "    <tr>\n",
              "      <th>293</th>\n",
              "      <td>data analyst (m/w/d)</td>\n",
              "      <td>On-site</td>\n",
              "      <td>charisma-tec gmbh</td>\n",
              "      <td>human resources</td>\n",
              "      <td>2-10</td>\n",
              "      <td>excel, python, sql</td>\n",
              "      <td>5 days ago</td>\n",
              "      <td>21</td>\n",
              "      <td>no_info</td>\n",
              "      <td>germany</td>\n",
              "    </tr>\n",
              "    <tr>\n",
              "      <th>294</th>\n",
              "      <td>data analyst (m/w/d)</td>\n",
              "      <td>On-site</td>\n",
              "      <td>charisma-tec gmbh</td>\n",
              "      <td>human resources</td>\n",
              "      <td>2-10</td>\n",
              "      <td>excel, python, sql</td>\n",
              "      <td>5 days ago</td>\n",
              "      <td>21</td>\n",
              "      <td>no_info</td>\n",
              "      <td>germany</td>\n",
              "    </tr>\n",
              "    <tr>\n",
              "      <th>295</th>\n",
              "      <td>data analyst (m/w/d)</td>\n",
              "      <td>On-site</td>\n",
              "      <td>charisma-tec gmbh</td>\n",
              "      <td>human resources</td>\n",
              "      <td>2-10</td>\n",
              "      <td>excel, python, sql</td>\n",
              "      <td>5 days ago</td>\n",
              "      <td>21</td>\n",
              "      <td>no_info</td>\n",
              "      <td>germany</td>\n",
              "    </tr>\n",
              "    <tr>\n",
              "      <th>296</th>\n",
              "      <td>data analyst (m/w/d)</td>\n",
              "      <td>On-site</td>\n",
              "      <td>charisma-tec gmbh</td>\n",
              "      <td>human resources</td>\n",
              "      <td>2-10</td>\n",
              "      <td>excel, python, sql</td>\n",
              "      <td>5 days ago</td>\n",
              "      <td>21</td>\n",
              "      <td>no_info</td>\n",
              "      <td>germany</td>\n",
              "    </tr>\n",
              "    <tr>\n",
              "      <th>...</th>\n",
              "      <td>...</td>\n",
              "      <td>...</td>\n",
              "      <td>...</td>\n",
              "      <td>...</td>\n",
              "      <td>...</td>\n",
              "      <td>...</td>\n",
              "      <td>...</td>\n",
              "      <td>...</td>\n",
              "      <td>...</td>\n",
              "      <td>...</td>\n",
              "    </tr>\n",
              "    <tr>\n",
              "      <th>424</th>\n",
              "      <td>online data analyst</td>\n",
              "      <td>Remote</td>\n",
              "      <td>telus international ai data solutions</td>\n",
              "      <td>information technology &amp; services</td>\n",
              "      <td>10001+</td>\n",
              "      <td>No_info</td>\n",
              "      <td>1 week ago</td>\n",
              "      <td>24</td>\n",
              "      <td>gloucestershire</td>\n",
              "      <td>united kingdom</td>\n",
              "    </tr>\n",
              "    <tr>\n",
              "      <th>776</th>\n",
              "      <td>supply chain data analyst</td>\n",
              "      <td>No_info</td>\n",
              "      <td>ni (national instruments)</td>\n",
              "      <td>electrical &amp; electronic manufacturing</td>\n",
              "      <td>5001-10000</td>\n",
              "      <td>api, excel, sql, tableau</td>\n",
              "      <td>9 hours ago</td>\n",
              "      <td>14</td>\n",
              "      <td>debrecen</td>\n",
              "      <td>hungary</td>\n",
              "    </tr>\n",
              "    <tr>\n",
              "      <th>782</th>\n",
              "      <td>[alt] data analyst assistant - h/f</td>\n",
              "      <td>On-site</td>\n",
              "      <td>initiative</td>\n",
              "      <td>marketing &amp; advertising</td>\n",
              "      <td>5001-10000</td>\n",
              "      <td>excel, spss, ssis, vba,  r</td>\n",
              "      <td>2 weeks ago</td>\n",
              "      <td>136</td>\n",
              "      <td>neuilly-sur-seine</td>\n",
              "      <td>france</td>\n",
              "    </tr>\n",
              "    <tr>\n",
              "      <th>825</th>\n",
              "      <td>data analyste</td>\n",
              "      <td>On-site</td>\n",
              "      <td>illicado</td>\n",
              "      <td>financial services</td>\n",
              "      <td>51-200</td>\n",
              "      <td>github, jira, miro, python</td>\n",
              "      <td>3 weeks ago</td>\n",
              "      <td>109</td>\n",
              "      <td>croix</td>\n",
              "      <td>france</td>\n",
              "    </tr>\n",
              "    <tr>\n",
              "      <th>826</th>\n",
              "      <td>data analyst - global marketing h/f</td>\n",
              "      <td>On-site</td>\n",
              "      <td>septodont</td>\n",
              "      <td>medical device</td>\n",
              "      <td>1001-5000</td>\n",
              "      <td>a/b testing, salesforce, tableau, power bi</td>\n",
              "      <td>2 weeks ago</td>\n",
              "      <td>88</td>\n",
              "      <td>paris</td>\n",
              "      <td>france</td>\n",
              "    </tr>\n",
              "  </tbody>\n",
              "</table>\n",
              "<p>84 rows × 10 columns</p>\n",
              "</div>\n",
              "      <button class=\"colab-df-convert\" onclick=\"convertToInteractive('df-6c45e66f-beec-42ce-bdb9-997bf3481197')\"\n",
              "              title=\"Convert this dataframe to an interactive table.\"\n",
              "              style=\"display:none;\">\n",
              "        \n",
              "  <svg xmlns=\"http://www.w3.org/2000/svg\" height=\"24px\"viewBox=\"0 0 24 24\"\n",
              "       width=\"24px\">\n",
              "    <path d=\"M0 0h24v24H0V0z\" fill=\"none\"/>\n",
              "    <path d=\"M18.56 5.44l.94 2.06.94-2.06 2.06-.94-2.06-.94-.94-2.06-.94 2.06-2.06.94zm-11 1L8.5 8.5l.94-2.06 2.06-.94-2.06-.94L8.5 2.5l-.94 2.06-2.06.94zm10 10l.94 2.06.94-2.06 2.06-.94-2.06-.94-.94-2.06-.94 2.06-2.06.94z\"/><path d=\"M17.41 7.96l-1.37-1.37c-.4-.4-.92-.59-1.43-.59-.52 0-1.04.2-1.43.59L10.3 9.45l-7.72 7.72c-.78.78-.78 2.05 0 2.83L4 21.41c.39.39.9.59 1.41.59.51 0 1.02-.2 1.41-.59l7.78-7.78 2.81-2.81c.8-.78.8-2.07 0-2.86zM5.41 20L4 18.59l7.72-7.72 1.47 1.35L5.41 20z\"/>\n",
              "  </svg>\n",
              "      </button>\n",
              "      \n",
              "  <style>\n",
              "    .colab-df-container {\n",
              "      display:flex;\n",
              "      flex-wrap:wrap;\n",
              "      gap: 12px;\n",
              "    }\n",
              "\n",
              "    .colab-df-convert {\n",
              "      background-color: #E8F0FE;\n",
              "      border: none;\n",
              "      border-radius: 50%;\n",
              "      cursor: pointer;\n",
              "      display: none;\n",
              "      fill: #1967D2;\n",
              "      height: 32px;\n",
              "      padding: 0 0 0 0;\n",
              "      width: 32px;\n",
              "    }\n",
              "\n",
              "    .colab-df-convert:hover {\n",
              "      background-color: #E2EBFA;\n",
              "      box-shadow: 0px 1px 2px rgba(60, 64, 67, 0.3), 0px 1px 3px 1px rgba(60, 64, 67, 0.15);\n",
              "      fill: #174EA6;\n",
              "    }\n",
              "\n",
              "    [theme=dark] .colab-df-convert {\n",
              "      background-color: #3B4455;\n",
              "      fill: #D2E3FC;\n",
              "    }\n",
              "\n",
              "    [theme=dark] .colab-df-convert:hover {\n",
              "      background-color: #434B5C;\n",
              "      box-shadow: 0px 1px 3px 1px rgba(0, 0, 0, 0.15);\n",
              "      filter: drop-shadow(0px 1px 2px rgba(0, 0, 0, 0.3));\n",
              "      fill: #FFFFFF;\n",
              "    }\n",
              "  </style>\n",
              "\n",
              "      <script>\n",
              "        const buttonEl =\n",
              "          document.querySelector('#df-6c45e66f-beec-42ce-bdb9-997bf3481197 button.colab-df-convert');\n",
              "        buttonEl.style.display =\n",
              "          google.colab.kernel.accessAllowed ? 'block' : 'none';\n",
              "\n",
              "        async function convertToInteractive(key) {\n",
              "          const element = document.querySelector('#df-6c45e66f-beec-42ce-bdb9-997bf3481197');\n",
              "          const dataTable =\n",
              "            await google.colab.kernel.invokeFunction('convertToInteractive',\n",
              "                                                     [key], {});\n",
              "          if (!dataTable) return;\n",
              "\n",
              "          const docLinkHtml = 'Like what you see? Visit the ' +\n",
              "            '<a target=\"_blank\" href=https://colab.research.google.com/notebooks/data_table.ipynb>data table notebook</a>'\n",
              "            + ' to learn more about interactive tables.';\n",
              "          element.innerHTML = '';\n",
              "          dataTable['output_type'] = 'display_data';\n",
              "          await google.colab.output.renderOutput(dataTable, element);\n",
              "          const docLink = document.createElement('div');\n",
              "          docLink.innerHTML = docLinkHtml;\n",
              "          element.appendChild(docLink);\n",
              "        }\n",
              "      </script>\n",
              "    </div>\n",
              "  </div>\n",
              "  "
            ]
          },
          "metadata": {},
          "execution_count": 24
        }
      ]
    },
    {
      "cell_type": "code",
      "source": [
        "df=df.drop_duplicates()"
      ],
      "metadata": {
        "id": "VqbEzpbidXHg"
      },
      "execution_count": null,
      "outputs": []
    },
    {
      "cell_type": "code",
      "source": [
        "df.info()"
      ],
      "metadata": {
        "colab": {
          "base_uri": "https://localhost:8080/"
        },
        "id": "2TCnSno0eWTz",
        "outputId": "2f98619a-0a8f-4564-9d91-f34bcbc107e2"
      },
      "execution_count": null,
      "outputs": [
        {
          "output_type": "stream",
          "name": "stdout",
          "text": [
            "<class 'pandas.core.frame.DataFrame'>\n",
            "Int64Index: 409 entries, 0 to 994\n",
            "Data columns (total 10 columns):\n",
            " #   Column              Non-Null Count  Dtype \n",
            "---  ------              --------------  ----- \n",
            " 0   vacancy_name        409 non-null    object\n",
            " 1   type_of_employment  409 non-null    object\n",
            " 2   company             409 non-null    object\n",
            " 3   field_of_activity   409 non-null    object\n",
            " 4   company_size        409 non-null    object\n",
            " 5   hard_skills         409 non-null    object\n",
            " 6   publication         409 non-null    object\n",
            " 7   candidates          409 non-null    int64 \n",
            " 8   city                409 non-null    object\n",
            " 9   country             409 non-null    object\n",
            "dtypes: int64(1), object(9)\n",
            "memory usage: 35.1+ KB\n"
          ]
        }
      ]
    },
    {
      "cell_type": "markdown",
      "source": [
        "## vacancy_name"
      ],
      "metadata": {
        "id": "TVOZEC8rZdYC"
      }
    },
    {
      "cell_type": "code",
      "source": [
        "df['vacancy_name'].value_counts().head(20)"
      ],
      "metadata": {
        "colab": {
          "base_uri": "https://localhost:8080/"
        },
        "id": "SyUQCfZZYRKQ",
        "outputId": "d46ac58c-5568-4636-94fe-2508feaf65b3"
      },
      "execution_count": null,
      "outputs": [
        {
          "output_type": "execute_result",
          "data": {
            "text/plain": [
              "data analyst                                                              98\n",
              "data analyst - milano                                                     28\n",
              "online data analyst                                                       20\n",
              "data analyst (m/w/d)                                                      18\n",
              "stage | data analyst                                                      17\n",
              "product data analyst                                                      10\n",
              "data analyst h/f                                                           6\n",
              "junior data analyst                                                        6\n",
              "data analyst (h/f)                                                         5\n",
              "graduate data analyst                                                      3\n",
              "data analyst - logistics                                                   3\n",
              "finance data analyst                                                       3\n",
              "senior data analyst                                                        3\n",
              "digital data analyst                                                       3\n",
              "data analyst - finance                                                     3\n",
              "credit - data analyst (product)                                            3\n",
              "data analyst in the area of iiot / ki / predictive maintenance (m/f/d)     2\n",
              "online data analyst (m,f,d)                                                2\n",
              "data analyst (m/f/d)                                                       2\n",
              "sales data analyst                                                         2\n",
              "Name: vacancy_name, dtype: int64"
            ]
          },
          "metadata": {},
          "execution_count": 27
        }
      ]
    },
    {
      "cell_type": "markdown",
      "source": [
        "## type_of_employment"
      ],
      "metadata": {
        "id": "53qiGh3UZptq"
      }
    },
    {
      "cell_type": "code",
      "source": [
        "df['type_of_employment'].value_counts().plot(kind='bar');"
      ],
      "metadata": {
        "colab": {
          "base_uri": "https://localhost:8080/",
          "height": 469
        },
        "id": "nIUZIXVPQKKj",
        "outputId": "fba6b3bc-033a-423e-dcad-78a20d5c215d"
      },
      "execution_count": null,
      "outputs": [
        {
          "output_type": "display_data",
          "data": {
            "text/plain": [
              "<Figure size 640x480 with 1 Axes>"
            ],
            "image/png": "[encoded data removed]"
          },
          "metadata": {}
        }
      ]
    },
    {
      "cell_type": "markdown",
      "source": [
        "## company"
      ],
      "metadata": {
        "id": "0hxBVz8VZxdQ"
      }
    },
    {
      "cell_type": "code",
      "source": [
        "df['company'].nunique()"
      ],
      "metadata": {
        "colab": {
          "base_uri": "https://localhost:8080/"
        },
        "id": "DMKY71MWQTye",
        "outputId": "51c2a18a-a558-4a7d-ccfe-47ec40796576"
      },
      "execution_count": null,
      "outputs": [
        {
          "output_type": "execute_result",
          "data": {
            "text/plain": [
              "279"
            ]
          },
          "metadata": {},
          "execution_count": 29
        }
      ]
    },
    {
      "cell_type": "code",
      "source": [
        "df['company'].value_counts().head(20).sort_values().plot(kind='barh');"
      ],
      "metadata": {
        "colab": {
          "base_uri": "https://localhost:8080/",
          "height": 430
        },
        "id": "6dw7TrZ4bNYw",
        "outputId": "8e88ca8f-eb51-4b0b-807a-ddef055e8de0"
      },
      "execution_count": null,
      "outputs": [
        {
          "output_type": "display_data",
          "data": {
            "text/plain": [
              "<Figure size 640x480 with 1 Axes>"
            ],
            "image/png": "[encoded data removed]"
          },
          "metadata": {}
        }
      ]
    },
    {
      "cell_type": "markdown",
      "source": [
        "## field_of_activity"
      ],
      "metadata": {
        "id": "i7ooZ9fvZxbc"
      }
    },
    {
      "cell_type": "code",
      "source": [
        "df['field_of_activity'].nunique()"
      ],
      "metadata": {
        "colab": {
          "base_uri": "https://localhost:8080/"
        },
        "id": "NHhDQuTEbB_y",
        "outputId": "ae6e7eba-130e-4839-d873-5db0d38fc6a2"
      },
      "execution_count": null,
      "outputs": [
        {
          "output_type": "execute_result",
          "data": {
            "text/plain": [
              "56"
            ]
          },
          "metadata": {},
          "execution_count": 31
        }
      ]
    },
    {
      "cell_type": "code",
      "source": [
        "df['field_of_activity'].value_counts().head(20).sort_values().plot(kind='barh');"
      ],
      "metadata": {
        "colab": {
          "base_uri": "https://localhost:8080/",
          "height": 430
        },
        "id": "MNyA5LkjaGzd",
        "outputId": "b5dc93bd-a1c3-495e-e1d2-0ad8dfef00ed"
      },
      "execution_count": null,
      "outputs": [
        {
          "output_type": "display_data",
          "data": {
            "text/plain": [
              "<Figure size 640x480 with 1 Axes>"
            ],
            "image/png": "[encoded data removed]"
          },
          "metadata": {}
        }
      ]
    },
    {
      "cell_type": "markdown",
      "source": [
        "## company_size"
      ],
      "metadata": {
        "id": "VCCZ5XfCbcs2"
      }
    },
    {
      "cell_type": "code",
      "source": [
        "def comp_size (df):\n",
        "  if df['company_size']=='10001+':\n",
        "    return 'big_company (10001+)'\n",
        "\n",
        "  if df['company_size']=='No_info':\n",
        "    return 'No_info'\n",
        "\n",
        "  if df['company_size']=='1001-5000' or df['company_size']=='5001-10000' :\n",
        "    return 'medium_company (1001-10000)'\n",
        "\n",
        "  else:\n",
        "     return 'small company (0-1000)'"
      ],
      "metadata": {
        "id": "iwQAviurVwUk"
      },
      "execution_count": null,
      "outputs": []
    },
    {
      "cell_type": "code",
      "source": [
        "df['company_size']=df.apply(comp_size, axis=1)"
      ],
      "metadata": {
        "id": "yabR63sJVwUm"
      },
      "execution_count": null,
      "outputs": []
    },
    {
      "cell_type": "code",
      "source": [
        "df['company_size'].value_counts().sort_values().plot(kind='barh');"
      ],
      "metadata": {
        "colab": {
          "base_uri": "https://localhost:8080/",
          "height": 430
        },
        "id": "pAYfqPC8bhub",
        "outputId": "853b3122-572b-4393-cb6f-4d0bf3ea92a7"
      },
      "execution_count": null,
      "outputs": [
        {
          "output_type": "display_data",
          "data": {
            "text/plain": [
              "<Figure size 640x480 with 1 Axes>"
            ],
            "image/png": "[encoded data removed]"
          },
          "metadata": {}
        }
      ]
    },
    {
      "cell_type": "markdown",
      "source": [
        "## hard_skills"
      ],
      "metadata": {
        "id": "0iry_SGpbcrx"
      }
    },
    {
      "cell_type": "code",
      "source": [
        "df['hard_skills'].value_counts()"
      ],
      "metadata": {
        "colab": {
          "base_uri": "https://localhost:8080/"
        },
        "id": "s9A6udu-e5Uz",
        "outputId": "1f7998b1-4352-4cb8-de00-8aae3662cf45"
      },
      "execution_count": null,
      "outputs": [
        {
          "output_type": "execute_result",
          "data": {
            "text/plain": [
              "excel                                                                            62\n",
              "No_info                                                                          44\n",
              "python, scala, sql, java, c++                                                     8\n",
              "excel, ssis                                                                       7\n",
              "excel, sql                                                                        6\n",
              "                                                                                 ..\n",
              "excel, sql, java, html, power bi                                                  1\n",
              "excel, salesforce                                                                 1\n",
              "talend, informatica, oracle data integrator, datastage, python, sql, java         1\n",
              "google analytics, adobe analytics, asana, python,  r , sql, tableau, power bi     1\n",
              "ssis, datastage                                                                   1\n",
              "Name: hard_skills, Length: 224, dtype: int64"
            ]
          },
          "metadata": {},
          "execution_count": 36
        }
      ]
    },
    {
      "cell_type": "markdown",
      "source": [
        "## publication"
      ],
      "metadata": {
        "id": "D01wvpmtb4BN"
      }
    },
    {
      "cell_type": "code",
      "source": [
        "date = datetime.strptime('2023-05-23', '%Y-%m-%d')"
      ],
      "metadata": {
        "id": "hiE5O-jVCFgz"
      },
      "execution_count": null,
      "outputs": []
    },
    {
      "cell_type": "code",
      "source": [
        "def publication_date (df):\n",
        "  if df['publication']=='1 week ago':\n",
        "    return date-timedelta(days=7)\n",
        "\n",
        "  if df['publication']=='2 weeks ago':\n",
        "    return date-timedelta(days=14)\n",
        "\n",
        "  if df['publication']=='3 weeks ago':\n",
        "    return date-timedelta(days=21)\n",
        "\n",
        "  if df['publication']=='4 weeks ago':\n",
        "    return date-timedelta(days=28)\n",
        "\n",
        "  if df['publication']=='1 day ago':\n",
        "    return date-timedelta(days=1)\n",
        "\n",
        "  if df['publication']=='2 days ago':\n",
        "    return date-timedelta(days=2)\n",
        "\n",
        "  if df['publication']=='3 days ago':\n",
        "    return date-timedelta(days=3)\n",
        "\n",
        "  if df['publication']=='4 days ago':\n",
        "    return date-timedelta(days=4)\n",
        "\n",
        "  if df['publication']=='5 days ago':\n",
        "    return date-timedelta(days=5)\n",
        "\n",
        "  if df['publication']=='6 days ago':\n",
        "    return date-timedelta(days=6)\n",
        "\n",
        "  else:\n",
        "     return date"
      ],
      "metadata": {
        "id": "07cTY_q_b6kK"
      },
      "execution_count": null,
      "outputs": []
    },
    {
      "cell_type": "code",
      "source": [
        "df['publication']=df.apply(publication_date, axis=1)"
      ],
      "metadata": {
        "id": "mUAh7h7jcZFG"
      },
      "execution_count": null,
      "outputs": []
    },
    {
      "cell_type": "code",
      "source": [
        "df['publication'].value_counts().sort_values().plot(kind='barh');"
      ],
      "metadata": {
        "colab": {
          "base_uri": "https://localhost:8080/",
          "height": 430
        },
        "id": "pG5n13Agfrx_",
        "outputId": "7e51c6d6-2c5c-4a6b-bb5b-d6f6ea43d70d"
      },
      "execution_count": null,
      "outputs": [
        {
          "output_type": "display_data",
          "data": {
            "text/plain": [
              "<Figure size 640x480 with 1 Axes>"
            ],
            "image/png": "[encoded data removed]"
          },
          "metadata": {}
        }
      ]
    },
    {
      "cell_type": "code",
      "source": [
        "df.query('publication==\"2023-05-16\"')['candidates'].sum()"
      ],
      "metadata": {
        "colab": {
          "base_uri": "https://localhost:8080/"
        },
        "id": "F51BwGLyW37G",
        "outputId": "424290f9-8133-46d1-ef8d-4625cfa9b3a7"
      },
      "execution_count": null,
      "outputs": [
        {
          "output_type": "execute_result",
          "data": {
            "text/plain": [
              "5982"
            ]
          },
          "metadata": {},
          "execution_count": 41
        }
      ]
    },
    {
      "cell_type": "markdown",
      "source": [
        "## candidates"
      ],
      "metadata": {
        "id": "hipcLlzub6t2"
      }
    },
    {
      "cell_type": "code",
      "source": [
        "df['candidates'].hist();"
      ],
      "metadata": {
        "colab": {
          "base_uri": "https://localhost:8080/",
          "height": 430
        },
        "id": "aWdn1-xqSN_U",
        "outputId": "a296f015-283d-4245-cbad-f77af38d8920"
      },
      "execution_count": null,
      "outputs": [
        {
          "output_type": "display_data",
          "data": {
            "text/plain": [
              "<Figure size 640x480 with 1 Axes>"
            ],
            "image/png": "[encoded data removed]"
          },
          "metadata": {}
        }
      ]
    },
    {
      "cell_type": "markdown",
      "source": [
        "## city"
      ],
      "metadata": {
        "id": "WED3U740b-x-"
      }
    },
    {
      "cell_type": "code",
      "source": [
        "df['city'].nunique()"
      ],
      "metadata": {
        "colab": {
          "base_uri": "https://localhost:8080/"
        },
        "id": "ZZrRLLQDBN_b",
        "outputId": "fec4808f-594f-4879-d8b6-7b4aca0c6fda"
      },
      "execution_count": null,
      "outputs": [
        {
          "output_type": "execute_result",
          "data": {
            "text/plain": [
              "224"
            ]
          },
          "metadata": {},
          "execution_count": 43
        }
      ]
    },
    {
      "cell_type": "code",
      "source": [
        "df['city'].value_counts().head(20).sort_values().plot(kind='barh');"
      ],
      "metadata": {
        "colab": {
          "base_uri": "https://localhost:8080/",
          "height": 430
        },
        "id": "ZGJU9PYIcPmX",
        "outputId": "620b87f2-a528-4c0f-bad4-0b36b7322f1e"
      },
      "execution_count": null,
      "outputs": [
        {
          "output_type": "display_data",
          "data": {
            "text/plain": [
              "<Figure size 640x480 with 1 Axes>"
            ],
            "image/png": "[encoded data removed]"
          },
          "metadata": {}
        }
      ]
    },
    {
      "cell_type": "markdown",
      "source": [
        "## country"
      ],
      "metadata": {
        "id": "QYl0kYUDb-kK"
      }
    },
    {
      "cell_type": "code",
      "source": [
        "df['country']=df['country'].str.strip()"
      ],
      "metadata": {
        "id": "l3nQycf8khAO"
      },
      "execution_count": null,
      "outputs": []
    },
    {
      "cell_type": "code",
      "source": [
        "country={'germany': ['berlin', 'hamburg', 'bremen','berlin metropolitan area','greater nuremberg metropolitan area', 'cologne bonn region'] ,\n",
        "      'france' : ['greater paris metropolitan region','greater pau area', 'île-de-france'],\n",
        "     'belgium' :['brussels metropolitan area','flemish region', 'brussels region'] ,\n",
        "      'spain': ['greater barcelona metropolitan area'],\n",
        "     'poland':['krakow metropolitan area', 'wroclaw metropolitan area'] ,'slovakia' : ['greater banska bystrica area'],\n",
        "     'sweden':['jonkoping county', 'stockholm county'] ,'ireland':['greater munster area', 'county dublin'] ,\n",
        "    'united kingdom' :['manchester area'], 'netherlands': ['eindhoven area', 'rotterdam and the hague', 'north holland'] ,\n",
        "    'hungary': ['budapest'], 'czechia':['moravia-silesia']}"
      ],
      "metadata": {
        "id": "4m89ONVgsJZc"
      },
      "execution_count": null,
      "outputs": []
    },
    {
      "cell_type": "code",
      "source": [
        "for k in country:\n",
        "  for i in country[k]:\n",
        "   #   print(i,k)\n",
        "      df['country']= df['country'].replace(i,k)"
      ],
      "metadata": {
        "id": "KsZK9DC00pEu"
      },
      "execution_count": null,
      "outputs": []
    },
    {
      "cell_type": "code",
      "source": [
        "df['country'].nunique()"
      ],
      "metadata": {
        "colab": {
          "base_uri": "https://localhost:8080/"
        },
        "id": "JB87MBZrkzwk",
        "outputId": "a18f463e-8512-4864-cb44-6f9f6b98e148"
      },
      "execution_count": null,
      "outputs": [
        {
          "output_type": "execute_result",
          "data": {
            "text/plain": [
              "27"
            ]
          },
          "metadata": {},
          "execution_count": 48
        }
      ]
    },
    {
      "cell_type": "code",
      "source": [
        "df['country'].value_counts().head(20).sort_values().plot(kind='barh');"
      ],
      "metadata": {
        "colab": {
          "base_uri": "https://localhost:8080/",
          "height": 430
        },
        "id": "Xah0XHAGcQHE",
        "outputId": "07e92fcf-45b3-4504-a1c6-728f593f26cb"
      },
      "execution_count": null,
      "outputs": [
        {
          "output_type": "display_data",
          "data": {
            "text/plain": [
              "<Figure size 640x480 with 1 Axes>"
            ],
            "image/png": "[encoded data removed]"
          },
          "metadata": {}
        }
      ]
    },
    {
      "cell_type": "code",
      "source": [
        "df.head()"
      ],
      "metadata": {
        "colab": {
          "base_uri": "https://localhost:8080/",
          "height": 421
        },
        "id": "iYkU7XVGycN8",
        "outputId": "1d117bd6-efc2-4a8b-b329-f68186475524"
      },
      "execution_count": null,
      "outputs": [
        {
          "output_type": "execute_result",
          "data": {
            "text/plain": [
              "                      vacancy_name type_of_employment  \\\n",
              "0                     data analyst            On-site   \n",
              "1         data analyst - logistics            On-site   \n",
              "2         data analyst - logistics            On-site   \n",
              "3  data analyst (space & planning)            On-site   \n",
              "4                     data analyst            On-site   \n",
              "\n",
              "                                    company      field_of_activity  \\\n",
              "0  pharmiweb.jobs: global life science jobs  staffing & recruiting   \n",
              "1                      resolute recruitment                no_info   \n",
              "2                      resolute recruitment                no_info   \n",
              "3                       mole valley farmers                no_info   \n",
              "4                                   forfirm                no_info   \n",
              "\n",
              "             company_size                                        hard_skills  \\\n",
              "0  small company (0-1000)                              excel, spss, sql, sas   \n",
              "1                 No_info                                            No_info   \n",
              "2                 No_info                                               ssis   \n",
              "3                 No_info                                        excel, ssis   \n",
              "4                 No_info  aws, gcp, oracle data integrator, python, sql,...   \n",
              "\n",
              "  publication  candidates          city         country  \n",
              "0  2023-05-16          47         basel     switzerland  \n",
              "1  2023-05-16           0      coventry  united kingdom  \n",
              "2  2023-05-16           0      coventry  united kingdom  \n",
              "3  2023-05-16           0  south molton  united kingdom  \n",
              "4  2023-05-09           0        lugano     switzerland  "
            ],
            "text/html": [
              "\n",
              "  <div id=\"df-34649344-105b-4e97-ab5c-1689b9f1abc2\">\n",
              "    <div class=\"colab-df-container\">\n",
              "      <div>\n",
              "<style scoped>\n",
              "    .dataframe tbody tr th:only-of-type {\n",
              "        vertical-align: middle;\n",
              "    }\n",
              "\n",
              "    .dataframe tbody tr th {\n",
              "        vertical-align: top;\n",
              "    }\n",
              "\n",
              "    .dataframe thead th {\n",
              "        text-align: right;\n",
              "    }\n",
              "</style>\n",
              "<table border=\"1\" class=\"dataframe\">\n",
              "  <thead>\n",
              "    <tr style=\"text-align: right;\">\n",
              "      <th></th>\n",
              "      <th>vacancy_name</th>\n",
              "      <th>type_of_employment</th>\n",
              "      <th>company</th>\n",
              "      <th>field_of_activity</th>\n",
              "      <th>company_size</th>\n",
              "      <th>hard_skills</th>\n",
              "      <th>publication</th>\n",
              "      <th>candidates</th>\n",
              "      <th>city</th>\n",
              "      <th>country</th>\n",
              "    </tr>\n",
              "  </thead>\n",
              "  <tbody>\n",
              "    <tr>\n",
              "      <th>0</th>\n",
              "      <td>data analyst</td>\n",
              "      <td>On-site</td>\n",
              "      <td>pharmiweb.jobs: global life science jobs</td>\n",
              "      <td>staffing &amp; recruiting</td>\n",
              "      <td>small company (0-1000)</td>\n",
              "      <td>excel, spss, sql, sas</td>\n",
              "      <td>2023-05-16</td>\n",
              "      <td>47</td>\n",
              "      <td>basel</td>\n",
              "      <td>switzerland</td>\n",
              "    </tr>\n",
              "    <tr>\n",
              "      <th>1</th>\n",
              "      <td>data analyst - logistics</td>\n",
              "      <td>On-site</td>\n",
              "      <td>resolute recruitment</td>\n",
              "      <td>no_info</td>\n",
              "      <td>No_info</td>\n",
              "      <td>No_info</td>\n",
              "      <td>2023-05-16</td>\n",
              "      <td>0</td>\n",
              "      <td>coventry</td>\n",
              "      <td>united kingdom</td>\n",
              "    </tr>\n",
              "    <tr>\n",
              "      <th>2</th>\n",
              "      <td>data analyst - logistics</td>\n",
              "      <td>On-site</td>\n",
              "      <td>resolute recruitment</td>\n",
              "      <td>no_info</td>\n",
              "      <td>No_info</td>\n",
              "      <td>ssis</td>\n",
              "      <td>2023-05-16</td>\n",
              "      <td>0</td>\n",
              "      <td>coventry</td>\n",
              "      <td>united kingdom</td>\n",
              "    </tr>\n",
              "    <tr>\n",
              "      <th>3</th>\n",
              "      <td>data analyst (space &amp; planning)</td>\n",
              "      <td>On-site</td>\n",
              "      <td>mole valley farmers</td>\n",
              "      <td>no_info</td>\n",
              "      <td>No_info</td>\n",
              "      <td>excel, ssis</td>\n",
              "      <td>2023-05-16</td>\n",
              "      <td>0</td>\n",
              "      <td>south molton</td>\n",
              "      <td>united kingdom</td>\n",
              "    </tr>\n",
              "    <tr>\n",
              "      <th>4</th>\n",
              "      <td>data analyst</td>\n",
              "      <td>On-site</td>\n",
              "      <td>forfirm</td>\n",
              "      <td>no_info</td>\n",
              "      <td>No_info</td>\n",
              "      <td>aws, gcp, oracle data integrator, python, sql,...</td>\n",
              "      <td>2023-05-09</td>\n",
              "      <td>0</td>\n",
              "      <td>lugano</td>\n",
              "      <td>switzerland</td>\n",
              "    </tr>\n",
              "  </tbody>\n",
              "</table>\n",
              "</div>\n",
              "      <button class=\"colab-df-convert\" onclick=\"convertToInteractive('df-34649344-105b-4e97-ab5c-1689b9f1abc2')\"\n",
              "              title=\"Convert this dataframe to an interactive table.\"\n",
              "              style=\"display:none;\">\n",
              "        \n",
              "  <svg xmlns=\"http://www.w3.org/2000/svg\" height=\"24px\"viewBox=\"0 0 24 24\"\n",
              "       width=\"24px\">\n",
              "    <path d=\"M0 0h24v24H0V0z\" fill=\"none\"/>\n",
              "    <path d=\"M18.56 5.44l.94 2.06.94-2.06 2.06-.94-2.06-.94-.94-2.06-.94 2.06-2.06.94zm-11 1L8.5 8.5l.94-2.06 2.06-.94-2.06-.94L8.5 2.5l-.94 2.06-2.06.94zm10 10l.94 2.06.94-2.06 2.06-.94-2.06-.94-.94-2.06-.94 2.06-2.06.94z\"/><path d=\"M17.41 7.96l-1.37-1.37c-.4-.4-.92-.59-1.43-.59-.52 0-1.04.2-1.43.59L10.3 9.45l-7.72 7.72c-.78.78-.78 2.05 0 2.83L4 21.41c.39.39.9.59 1.41.59.51 0 1.02-.2 1.41-.59l7.78-7.78 2.81-2.81c.8-.78.8-2.07 0-2.86zM5.41 20L4 18.59l7.72-7.72 1.47 1.35L5.41 20z\"/>\n",
              "  </svg>\n",
              "      </button>\n",
              "      \n",
              "  <style>\n",
              "    .colab-df-container {\n",
              "      display:flex;\n",
              "      flex-wrap:wrap;\n",
              "      gap: 12px;\n",
              "    }\n",
              "\n",
              "    .colab-df-convert {\n",
              "      background-color: #E8F0FE;\n",
              "      border: none;\n",
              "      border-radius: 50%;\n",
              "      cursor: pointer;\n",
              "      display: none;\n",
              "      fill: #1967D2;\n",
              "      height: 32px;\n",
              "      padding: 0 0 0 0;\n",
              "      width: 32px;\n",
              "    }\n",
              "\n",
              "    .colab-df-convert:hover {\n",
              "      background-color: #E2EBFA;\n",
              "      box-shadow: 0px 1px 2px rgba(60, 64, 67, 0.3), 0px 1px 3px 1px rgba(60, 64, 67, 0.15);\n",
              "      fill: #174EA6;\n",
              "    }\n",
              "\n",
              "    [theme=dark] .colab-df-convert {\n",
              "      background-color: #3B4455;\n",
              "      fill: #D2E3FC;\n",
              "    }\n",
              "\n",
              "    [theme=dark] .colab-df-convert:hover {\n",
              "      background-color: #434B5C;\n",
              "      box-shadow: 0px 1px 3px 1px rgba(0, 0, 0, 0.15);\n",
              "      filter: drop-shadow(0px 1px 2px rgba(0, 0, 0, 0.3));\n",
              "      fill: #FFFFFF;\n",
              "    }\n",
              "  </style>\n",
              "\n",
              "      <script>\n",
              "        const buttonEl =\n",
              "          document.querySelector('#df-34649344-105b-4e97-ab5c-1689b9f1abc2 button.colab-df-convert');\n",
              "        buttonEl.style.display =\n",
              "          google.colab.kernel.accessAllowed ? 'block' : 'none';\n",
              "\n",
              "        async function convertToInteractive(key) {\n",
              "          const element = document.querySelector('#df-34649344-105b-4e97-ab5c-1689b9f1abc2');\n",
              "          const dataTable =\n",
              "            await google.colab.kernel.invokeFunction('convertToInteractive',\n",
              "                                                     [key], {});\n",
              "          if (!dataTable) return;\n",
              "\n",
              "          const docLinkHtml = 'Like what you see? Visit the ' +\n",
              "            '<a target=\"_blank\" href=https://colab.research.google.com/notebooks/data_table.ipynb>data table notebook</a>'\n",
              "            + ' to learn more about interactive tables.';\n",
              "          element.innerHTML = '';\n",
              "          dataTable['output_type'] = 'display_data';\n",
              "          await google.colab.output.renderOutput(dataTable, element);\n",
              "          const docLink = document.createElement('div');\n",
              "          docLink.innerHTML = docLinkHtml;\n",
              "          element.appendChild(docLink);\n",
              "        }\n",
              "      </script>\n",
              "    </div>\n",
              "  </div>\n",
              "  "
            ]
          },
          "metadata": {},
          "execution_count": 50
        }
      ]
    },
    {
      "cell_type": "code",
      "source": [],
      "metadata": {
        "id": "LawnzGZ1ISCe"
      },
      "execution_count": null,
      "outputs": []
    },
    {
      "cell_type": "markdown",
      "source": [
        "# Экспорт данных"
      ],
      "metadata": {
        "id": "H8wYqkkZOmc_"
      }
    },
    {
      "cell_type": "code",
      "source": [
        "df_hard_skills = df[['type_of_employment','country', 'hard_skills']]"
      ],
      "metadata": {
        "id": "fi7WgdlUBvqJ"
      },
      "execution_count": null,
      "outputs": []
    },
    {
      "cell_type": "code",
      "source": [
        "df_hard_skills['hard_skills']=df_hard_skills['hard_skills'].str.split(', ')"
      ],
      "metadata": {
        "colab": {
          "base_uri": "https://localhost:8080/"
        },
        "id": "646tgrEVIwP1",
        "outputId": "6ae85a4b-5ab2-42ad-e677-2415eadc2a28"
      },
      "execution_count": null,
      "outputs": [
        {
          "output_type": "stream",
          "name": "stderr",
          "text": [
            "<ipython-input-52-9251d949ed11>:1: SettingWithCopyWarning: \n",
            "A value is trying to be set on a copy of a slice from a DataFrame.\n",
            "Try using .loc[row_indexer,col_indexer] = value instead\n",
            "\n",
            "See the caveats in the documentation: https://pandas.pydata.org/pandas-docs/stable/user_guide/indexing.html#returning-a-view-versus-a-copy\n",
            "  df_hard_skills['hard_skills']=df_hard_skills['hard_skills'].str.split(', ')\n"
          ]
        }
      ]
    },
    {
      "cell_type": "code",
      "source": [
        "df_hard_skills = df_hard_skills.explode('hard_skills')"
      ],
      "metadata": {
        "id": "8FUbLkH3Ihat"
      },
      "execution_count": null,
      "outputs": []
    },
    {
      "cell_type": "code",
      "source": [
        "df=df.drop('hard_skills', axis=1)"
      ],
      "metadata": {
        "id": "ftG-4HB9Lhib"
      },
      "execution_count": null,
      "outputs": []
    },
    {
      "cell_type": "code",
      "source": [
        "df.head()"
      ],
      "metadata": {
        "colab": {
          "base_uri": "https://localhost:8080/",
          "height": 333
        },
        "id": "kLzg_RCKMJp0",
        "outputId": "8878d729-fd79-4db1-badb-4421fe64253a"
      },
      "execution_count": null,
      "outputs": [
        {
          "output_type": "execute_result",
          "data": {
            "text/plain": [
              "                      vacancy_name type_of_employment  \\\n",
              "0                     data analyst            On-site   \n",
              "1         data analyst - logistics            On-site   \n",
              "2         data analyst - logistics            On-site   \n",
              "3  data analyst (space & planning)            On-site   \n",
              "4                     data analyst            On-site   \n",
              "\n",
              "                                    company      field_of_activity  \\\n",
              "0  pharmiweb.jobs: global life science jobs  staffing & recruiting   \n",
              "1                      resolute recruitment                no_info   \n",
              "2                      resolute recruitment                no_info   \n",
              "3                       mole valley farmers                no_info   \n",
              "4                                   forfirm                no_info   \n",
              "\n",
              "             company_size publication  candidates          city  \\\n",
              "0  small company (0-1000)  2023-05-16          47         basel   \n",
              "1                 No_info  2023-05-16           0      coventry   \n",
              "2                 No_info  2023-05-16           0      coventry   \n",
              "3                 No_info  2023-05-16           0  south molton   \n",
              "4                 No_info  2023-05-09           0        lugano   \n",
              "\n",
              "          country  \n",
              "0     switzerland  \n",
              "1  united kingdom  \n",
              "2  united kingdom  \n",
              "3  united kingdom  \n",
              "4     switzerland  "
            ],
            "text/html": [
              "\n",
              "  <div id=\"df-c5e56f55-44ae-4ff9-ab44-3071e92e277e\">\n",
              "    <div class=\"colab-df-container\">\n",
              "      <div>\n",
              "<style scoped>\n",
              "    .dataframe tbody tr th:only-of-type {\n",
              "        vertical-align: middle;\n",
              "    }\n",
              "\n",
              "    .dataframe tbody tr th {\n",
              "        vertical-align: top;\n",
              "    }\n",
              "\n",
              "    .dataframe thead th {\n",
              "        text-align: right;\n",
              "    }\n",
              "</style>\n",
              "<table border=\"1\" class=\"dataframe\">\n",
              "  <thead>\n",
              "    <tr style=\"text-align: right;\">\n",
              "      <th></th>\n",
              "      <th>vacancy_name</th>\n",
              "      <th>type_of_employment</th>\n",
              "      <th>company</th>\n",
              "      <th>field_of_activity</th>\n",
              "      <th>company_size</th>\n",
              "      <th>publication</th>\n",
              "      <th>candidates</th>\n",
              "      <th>city</th>\n",
              "      <th>country</th>\n",
              "    </tr>\n",
              "  </thead>\n",
              "  <tbody>\n",
              "    <tr>\n",
              "      <th>0</th>\n",
              "      <td>data analyst</td>\n",
              "      <td>On-site</td>\n",
              "      <td>pharmiweb.jobs: global life science jobs</td>\n",
              "      <td>staffing &amp; recruiting</td>\n",
              "      <td>small company (0-1000)</td>\n",
              "      <td>2023-05-16</td>\n",
              "      <td>47</td>\n",
              "      <td>basel</td>\n",
              "      <td>switzerland</td>\n",
              "    </tr>\n",
              "    <tr>\n",
              "      <th>1</th>\n",
              "      <td>data analyst - logistics</td>\n",
              "      <td>On-site</td>\n",
              "      <td>resolute recruitment</td>\n",
              "      <td>no_info</td>\n",
              "      <td>No_info</td>\n",
              "      <td>2023-05-16</td>\n",
              "      <td>0</td>\n",
              "      <td>coventry</td>\n",
              "      <td>united kingdom</td>\n",
              "    </tr>\n",
              "    <tr>\n",
              "      <th>2</th>\n",
              "      <td>data analyst - logistics</td>\n",
              "      <td>On-site</td>\n",
              "      <td>resolute recruitment</td>\n",
              "      <td>no_info</td>\n",
              "      <td>No_info</td>\n",
              "      <td>2023-05-16</td>\n",
              "      <td>0</td>\n",
              "      <td>coventry</td>\n",
              "      <td>united kingdom</td>\n",
              "    </tr>\n",
              "    <tr>\n",
              "      <th>3</th>\n",
              "      <td>data analyst (space &amp; planning)</td>\n",
              "      <td>On-site</td>\n",
              "      <td>mole valley farmers</td>\n",
              "      <td>no_info</td>\n",
              "      <td>No_info</td>\n",
              "      <td>2023-05-16</td>\n",
              "      <td>0</td>\n",
              "      <td>south molton</td>\n",
              "      <td>united kingdom</td>\n",
              "    </tr>\n",
              "    <tr>\n",
              "      <th>4</th>\n",
              "      <td>data analyst</td>\n",
              "      <td>On-site</td>\n",
              "      <td>forfirm</td>\n",
              "      <td>no_info</td>\n",
              "      <td>No_info</td>\n",
              "      <td>2023-05-09</td>\n",
              "      <td>0</td>\n",
              "      <td>lugano</td>\n",
              "      <td>switzerland</td>\n",
              "    </tr>\n",
              "  </tbody>\n",
              "</table>\n",
              "</div>\n",
              "      <button class=\"colab-df-convert\" onclick=\"convertToInteractive('df-c5e56f55-44ae-4ff9-ab44-3071e92e277e')\"\n",
              "              title=\"Convert this dataframe to an interactive table.\"\n",
              "              style=\"display:none;\">\n",
              "        \n",
              "  <svg xmlns=\"http://www.w3.org/2000/svg\" height=\"24px\"viewBox=\"0 0 24 24\"\n",
              "       width=\"24px\">\n",
              "    <path d=\"M0 0h24v24H0V0z\" fill=\"none\"/>\n",
              "    <path d=\"M18.56 5.44l.94 2.06.94-2.06 2.06-.94-2.06-.94-.94-2.06-.94 2.06-2.06.94zm-11 1L8.5 8.5l.94-2.06 2.06-.94-2.06-.94L8.5 2.5l-.94 2.06-2.06.94zm10 10l.94 2.06.94-2.06 2.06-.94-2.06-.94-.94-2.06-.94 2.06-2.06.94z\"/><path d=\"M17.41 7.96l-1.37-1.37c-.4-.4-.92-.59-1.43-.59-.52 0-1.04.2-1.43.59L10.3 9.45l-7.72 7.72c-.78.78-.78 2.05 0 2.83L4 21.41c.39.39.9.59 1.41.59.51 0 1.02-.2 1.41-.59l7.78-7.78 2.81-2.81c.8-.78.8-2.07 0-2.86zM5.41 20L4 18.59l7.72-7.72 1.47 1.35L5.41 20z\"/>\n",
              "  </svg>\n",
              "      </button>\n",
              "      \n",
              "  <style>\n",
              "    .colab-df-container {\n",
              "      display:flex;\n",
              "      flex-wrap:wrap;\n",
              "      gap: 12px;\n",
              "    }\n",
              "\n",
              "    .colab-df-convert {\n",
              "      background-color: #E8F0FE;\n",
              "      border: none;\n",
              "      border-radius: 50%;\n",
              "      cursor: pointer;\n",
              "      display: none;\n",
              "      fill: #1967D2;\n",
              "      height: 32px;\n",
              "      padding: 0 0 0 0;\n",
              "      width: 32px;\n",
              "    }\n",
              "\n",
              "    .colab-df-convert:hover {\n",
              "      background-color: #E2EBFA;\n",
              "      box-shadow: 0px 1px 2px rgba(60, 64, 67, 0.3), 0px 1px 3px 1px rgba(60, 64, 67, 0.15);\n",
              "      fill: #174EA6;\n",
              "    }\n",
              "\n",
              "    [theme=dark] .colab-df-convert {\n",
              "      background-color: #3B4455;\n",
              "      fill: #D2E3FC;\n",
              "    }\n",
              "\n",
              "    [theme=dark] .colab-df-convert:hover {\n",
              "      background-color: #434B5C;\n",
              "      box-shadow: 0px 1px 3px 1px rgba(0, 0, 0, 0.15);\n",
              "      filter: drop-shadow(0px 1px 2px rgba(0, 0, 0, 0.3));\n",
              "      fill: #FFFFFF;\n",
              "    }\n",
              "  </style>\n",
              "\n",
              "      <script>\n",
              "        const buttonEl =\n",
              "          document.querySelector('#df-c5e56f55-44ae-4ff9-ab44-3071e92e277e button.colab-df-convert');\n",
              "        buttonEl.style.display =\n",
              "          google.colab.kernel.accessAllowed ? 'block' : 'none';\n",
              "\n",
              "        async function convertToInteractive(key) {\n",
              "          const element = document.querySelector('#df-c5e56f55-44ae-4ff9-ab44-3071e92e277e');\n",
              "          const dataTable =\n",
              "            await google.colab.kernel.invokeFunction('convertToInteractive',\n",
              "                                                     [key], {});\n",
              "          if (!dataTable) return;\n",
              "\n",
              "          const docLinkHtml = 'Like what you see? Visit the ' +\n",
              "            '<a target=\"_blank\" href=https://colab.research.google.com/notebooks/data_table.ipynb>data table notebook</a>'\n",
              "            + ' to learn more about interactive tables.';\n",
              "          element.innerHTML = '';\n",
              "          dataTable['output_type'] = 'display_data';\n",
              "          await google.colab.output.renderOutput(dataTable, element);\n",
              "          const docLink = document.createElement('div');\n",
              "          docLink.innerHTML = docLinkHtml;\n",
              "          element.appendChild(docLink);\n",
              "        }\n",
              "      </script>\n",
              "    </div>\n",
              "  </div>\n",
              "  "
            ]
          },
          "metadata": {},
          "execution_count": 55
        }
      ]
    },
    {
      "cell_type": "code",
      "source": [
        "df_hard_skills"
      ],
      "metadata": {
        "colab": {
          "base_uri": "https://localhost:8080/",
          "height": 419
        },
        "id": "_IJlMCW2MadT",
        "outputId": "e9da3fd9-0696-42c4-8c23-a43656ccc801"
      },
      "execution_count": null,
      "outputs": [
        {
          "output_type": "execute_result",
          "data": {
            "text/plain": [
              "    type_of_employment         country hard_skills\n",
              "0              On-site     switzerland       excel\n",
              "0              On-site     switzerland        spss\n",
              "0              On-site     switzerland         sql\n",
              "0              On-site     switzerland         sas\n",
              "1              On-site  united kingdom     No_info\n",
              "..                 ...             ...         ...\n",
              "976             Hybrid          france         sas\n",
              "982             Hybrid           italy       excel\n",
              "988            On-site           italy        ssis\n",
              "988            On-site           italy   datastage\n",
              "994             Hybrid           italy       excel\n",
              "\n",
              "[1360 rows x 3 columns]"
            ],
            "text/html": [
              "\n",
              "  <div id=\"df-f28322cb-8899-4ec7-a7da-a4e1da21f0e7\">\n",
              "    <div class=\"colab-df-container\">\n",
              "      <div>\n",
              "<style scoped>\n",
              "    .dataframe tbody tr th:only-of-type {\n",
              "        vertical-align: middle;\n",
              "    }\n",
              "\n",
              "    .dataframe tbody tr th {\n",
              "        vertical-align: top;\n",
              "    }\n",
              "\n",
              "    .dataframe thead th {\n",
              "        text-align: right;\n",
              "    }\n",
              "</style>\n",
              "<table border=\"1\" class=\"dataframe\">\n",
              "  <thead>\n",
              "    <tr style=\"text-align: right;\">\n",
              "      <th></th>\n",
              "      <th>type_of_employment</th>\n",
              "      <th>country</th>\n",
              "      <th>hard_skills</th>\n",
              "    </tr>\n",
              "  </thead>\n",
              "  <tbody>\n",
              "    <tr>\n",
              "      <th>0</th>\n",
              "      <td>On-site</td>\n",
              "      <td>switzerland</td>\n",
              "      <td>excel</td>\n",
              "    </tr>\n",
              "    <tr>\n",
              "      <th>0</th>\n",
              "      <td>On-site</td>\n",
              "      <td>switzerland</td>\n",
              "      <td>spss</td>\n",
              "    </tr>\n",
              "    <tr>\n",
              "      <th>0</th>\n",
              "      <td>On-site</td>\n",
              "      <td>switzerland</td>\n",
              "      <td>sql</td>\n",
              "    </tr>\n",
              "    <tr>\n",
              "      <th>0</th>\n",
              "      <td>On-site</td>\n",
              "      <td>switzerland</td>\n",
              "      <td>sas</td>\n",
              "    </tr>\n",
              "    <tr>\n",
              "      <th>1</th>\n",
              "      <td>On-site</td>\n",
              "      <td>united kingdom</td>\n",
              "      <td>No_info</td>\n",
              "    </tr>\n",
              "    <tr>\n",
              "      <th>...</th>\n",
              "      <td>...</td>\n",
              "      <td>...</td>\n",
              "      <td>...</td>\n",
              "    </tr>\n",
              "    <tr>\n",
              "      <th>976</th>\n",
              "      <td>Hybrid</td>\n",
              "      <td>france</td>\n",
              "      <td>sas</td>\n",
              "    </tr>\n",
              "    <tr>\n",
              "      <th>982</th>\n",
              "      <td>Hybrid</td>\n",
              "      <td>italy</td>\n",
              "      <td>excel</td>\n",
              "    </tr>\n",
              "    <tr>\n",
              "      <th>988</th>\n",
              "      <td>On-site</td>\n",
              "      <td>italy</td>\n",
              "      <td>ssis</td>\n",
              "    </tr>\n",
              "    <tr>\n",
              "      <th>988</th>\n",
              "      <td>On-site</td>\n",
              "      <td>italy</td>\n",
              "      <td>datastage</td>\n",
              "    </tr>\n",
              "    <tr>\n",
              "      <th>994</th>\n",
              "      <td>Hybrid</td>\n",
              "      <td>italy</td>\n",
              "      <td>excel</td>\n",
              "    </tr>\n",
              "  </tbody>\n",
              "</table>\n",
              "<p>1360 rows × 3 columns</p>\n",
              "</div>\n",
              "      <button class=\"colab-df-convert\" onclick=\"convertToInteractive('df-f28322cb-8899-4ec7-a7da-a4e1da21f0e7')\"\n",
              "              title=\"Convert this dataframe to an interactive table.\"\n",
              "              style=\"display:none;\">\n",
              "        \n",
              "  <svg xmlns=\"http://www.w3.org/2000/svg\" height=\"24px\"viewBox=\"0 0 24 24\"\n",
              "       width=\"24px\">\n",
              "    <path d=\"M0 0h24v24H0V0z\" fill=\"none\"/>\n",
              "    <path d=\"M18.56 5.44l.94 2.06.94-2.06 2.06-.94-2.06-.94-.94-2.06-.94 2.06-2.06.94zm-11 1L8.5 8.5l.94-2.06 2.06-.94-2.06-.94L8.5 2.5l-.94 2.06-2.06.94zm10 10l.94 2.06.94-2.06 2.06-.94-2.06-.94-.94-2.06-.94 2.06-2.06.94z\"/><path d=\"M17.41 7.96l-1.37-1.37c-.4-.4-.92-.59-1.43-.59-.52 0-1.04.2-1.43.59L10.3 9.45l-7.72 7.72c-.78.78-.78 2.05 0 2.83L4 21.41c.39.39.9.59 1.41.59.51 0 1.02-.2 1.41-.59l7.78-7.78 2.81-2.81c.8-.78.8-2.07 0-2.86zM5.41 20L4 18.59l7.72-7.72 1.47 1.35L5.41 20z\"/>\n",
              "  </svg>\n",
              "      </button>\n",
              "      \n",
              "  <style>\n",
              "    .colab-df-container {\n",
              "      display:flex;\n",
              "      flex-wrap:wrap;\n",
              "      gap: 12px;\n",
              "    }\n",
              "\n",
              "    .colab-df-convert {\n",
              "      background-color: #E8F0FE;\n",
              "      border: none;\n",
              "      border-radius: 50%;\n",
              "      cursor: pointer;\n",
              "      display: none;\n",
              "      fill: #1967D2;\n",
              "      height: 32px;\n",
              "      padding: 0 0 0 0;\n",
              "      width: 32px;\n",
              "    }\n",
              "\n",
              "    .colab-df-convert:hover {\n",
              "      background-color: #E2EBFA;\n",
              "      box-shadow: 0px 1px 2px rgba(60, 64, 67, 0.3), 0px 1px 3px 1px rgba(60, 64, 67, 0.15);\n",
              "      fill: #174EA6;\n",
              "    }\n",
              "\n",
              "    [theme=dark] .colab-df-convert {\n",
              "      background-color: #3B4455;\n",
              "      fill: #D2E3FC;\n",
              "    }\n",
              "\n",
              "    [theme=dark] .colab-df-convert:hover {\n",
              "      background-color: #434B5C;\n",
              "      box-shadow: 0px 1px 3px 1px rgba(0, 0, 0, 0.15);\n",
              "      filter: drop-shadow(0px 1px 2px rgba(0, 0, 0, 0.3));\n",
              "      fill: #FFFFFF;\n",
              "    }\n",
              "  </style>\n",
              "\n",
              "      <script>\n",
              "        const buttonEl =\n",
              "          document.querySelector('#df-f28322cb-8899-4ec7-a7da-a4e1da21f0e7 button.colab-df-convert');\n",
              "        buttonEl.style.display =\n",
              "          google.colab.kernel.accessAllowed ? 'block' : 'none';\n",
              "\n",
              "        async function convertToInteractive(key) {\n",
              "          const element = document.querySelector('#df-f28322cb-8899-4ec7-a7da-a4e1da21f0e7');\n",
              "          const dataTable =\n",
              "            await google.colab.kernel.invokeFunction('convertToInteractive',\n",
              "                                                     [key], {});\n",
              "          if (!dataTable) return;\n",
              "\n",
              "          const docLinkHtml = 'Like what you see? Visit the ' +\n",
              "            '<a target=\"_blank\" href=https://colab.research.google.com/notebooks/data_table.ipynb>data table notebook</a>'\n",
              "            + ' to learn more about interactive tables.';\n",
              "          element.innerHTML = '';\n",
              "          dataTable['output_type'] = 'display_data';\n",
              "          await google.colab.output.renderOutput(dataTable, element);\n",
              "          const docLink = document.createElement('div');\n",
              "          docLink.innerHTML = docLinkHtml;\n",
              "          element.appendChild(docLink);\n",
              "        }\n",
              "      </script>\n",
              "    </div>\n",
              "  </div>\n",
              "  "
            ]
          },
          "metadata": {},
          "execution_count": 56
        }
      ]
    },
    {
      "cell_type": "code",
      "source": [
        "df_hard_skills['hard_skills']=df_hard_skills['hard_skills'].str.join('')"
      ],
      "metadata": {
        "id": "2b_9_XSoSM8z"
      },
      "execution_count": null,
      "outputs": []
    },
    {
      "cell_type": "code",
      "source": [
        "df_hard_skills['hard_skills']= df_hard_skills['hard_skills'].replace('powerbi', 'power bi')"
      ],
      "metadata": {
        "id": "6VrfqyXMT9b0"
      },
      "execution_count": null,
      "outputs": []
    },
    {
      "cell_type": "code",
      "source": [
        "df_hard_skills['hard_skills'].value_counts()"
      ],
      "metadata": {
        "colab": {
          "base_uri": "https://localhost:8080/"
        },
        "id": "gx1SQ27CSwKk",
        "outputId": "24e1d106-f97f-4749-97f4-c1441a311e93"
      },
      "execution_count": null,
      "outputs": [
        {
          "output_type": "execute_result",
          "data": {
            "text/plain": [
              "excel                   213\n",
              "sql                     195\n",
              "python                  143\n",
              "power bi                134\n",
              "tableau                 105\n",
              "                       ... \n",
              "sisense                   1\n",
              "thoughtspot               1\n",
              "redshift                  1\n",
              "miro                      1\n",
              "sap business objects      1\n",
              "Name: hard_skills, Length: 61, dtype: int64"
            ]
          },
          "metadata": {},
          "execution_count": 59
        }
      ]
    },
    {
      "cell_type": "code",
      "source": [
        "df_hard_skills['hard_skills'].nunique()"
      ],
      "metadata": {
        "colab": {
          "base_uri": "https://localhost:8080/"
        },
        "id": "JZFZsti4UWS8",
        "outputId": "534ad45f-b235-46c7-85c6-778115acd080"
      },
      "execution_count": null,
      "outputs": [
        {
          "output_type": "execute_result",
          "data": {
            "text/plain": [
              "61"
            ]
          },
          "metadata": {},
          "execution_count": 60
        }
      ]
    },
    {
      "cell_type": "code",
      "source": [
        "df_hard_skills['hard_skills'].value_counts().head(30).sort_values().plot(kind='barh');"
      ],
      "metadata": {
        "colab": {
          "base_uri": "https://localhost:8080/",
          "height": 430
        },
        "id": "Y53-deF1Q8fa",
        "outputId": "e96cfb32-150b-4c9b-dfc1-c11a5f57c9a5"
      },
      "execution_count": null,
      "outputs": [
        {
          "output_type": "display_data",
          "data": {
            "text/plain": [
              "<Figure size 640x480 with 1 Axes>"
            ],
            "image/png": "[encoded data removed]"
          },
          "metadata": {}
        }
      ]
    },
    {
      "cell_type": "code",
      "source": [
        "df.to_excel('/content/drive/MyDrive/Linkedin- Мастерская/data.xlsx' , index=False)\n",
        "df_hard_skills.to_excel('/content/drive/MyDrive/Linkedin- Мастерская/hard_skills_2.xlsx',  index=False)"
      ],
      "metadata": {
        "id": "e_6QUm_TIDdG"
      },
      "execution_count": null,
      "outputs": []
    },
    {
      "cell_type": "code",
      "source": [],
      "metadata": {
        "id": "IumkL-JQMyZy"
      },
      "execution_count": null,
      "outputs": []
    }
  ]
}